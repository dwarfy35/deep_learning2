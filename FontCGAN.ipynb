{
  "cells": [
    {
      "cell_type": "markdown",
      "metadata": {
        "id": "view-in-github",
        "colab_type": "text"
      },
      "source": [
        "<a href=\"https://colab.research.google.com/github/dwarfy35/deep_learning2/blob/main/FontCGAN.ipynb\" target=\"_parent\"><img src=\"https://colab.research.google.com/assets/colab-badge.svg\" alt=\"Open In Colab\"/></a>"
      ]
    },
    {
      "cell_type": "code",
      "execution_count": null,
      "metadata": {
        "colab": {
          "base_uri": "https://localhost:8080/"
        },
        "id": "jd36ANKxZZuB",
        "outputId": "e9660762-72e4-400b-96eb-404194adae65"
      },
      "outputs": [
        {
          "output_type": "stream",
          "name": "stdout",
          "text": [
            "Drive already mounted at /content/gdrive; to attempt to forcibly remount, call drive.mount(\"/content/gdrive\", force_remount=True).\n"
          ]
        }
      ],
      "source": [
        "import matplotlib.pyplot as plt\n",
        "import numpy as np\n",
        "import torch\n",
        "import torch.optim as optim\n",
        "import torch.nn as nn\n",
        "from torch.utils.data import Dataset, DataLoader\n",
        "from torchvision import transforms\n",
        "from google.colab import drive\n",
        "from torch.autograd import grad\n",
        "from sklearn.model_selection import train_test_split\n",
        "from torch.utils.data import ConcatDataset\n",
        "from torch.autograd import grad\n",
        "from collections import defaultdict\n",
        "\n",
        "drive.mount('/content/gdrive')"
      ]
    },
    {
      "cell_type": "code",
      "execution_count": null,
      "metadata": {
        "id": "5g6LYnHMxnzT"
      },
      "outputs": [],
      "source": [
        "ngf = 32\n",
        "nc = 1\n",
        "ndf = 32"
      ]
    },
    {
      "cell_type": "code",
      "execution_count": null,
      "metadata": {
        "id": "fX2qIT2U26nz"
      },
      "outputs": [],
      "source": [
        "class Generator3(nn.Module):\n",
        "    def __init__(self, latent_dim):\n",
        "        super(Generator3, self).__init__()\n",
        "\n",
        "        self.init_size = 2  # Initial spatial size\n",
        "        self.latent_dim = latent_dim\n",
        "\n",
        "        # In the paper it is not specified z transforms into a 4x4x512 (for 64x64 data) so we will use a linear layer to do so.\n",
        "        self.fc = nn.Linear(latent_dim, 512 * self.init_size * self.init_size)\n",
        "        # No relu because we just had to reshape the latent vector to something that when flattened is 2 * 32^2, which 2x2x512 is\n",
        "\n",
        "\n",
        "        # We make the transposed convolutional layers (fractionally strided convolutions)\n",
        "        self.deconv_blocks = nn.Sequential(\n",
        "            # Block 1: Input (2x2x512) -> Output (4x4x256)\n",
        "            nn.ConvTranspose2d(512, 256, kernel_size=4, stride=2, padding=1),\n",
        "            nn.ReLU(),\n",
        "\n",
        "            # Block 2: Input (4x4x256)-> Output (8x8x128)\n",
        "            nn.ConvTranspose2d(256, 128, kernel_size=4, stride=2, padding=1),\n",
        "            nn.ReLU(),\n",
        "\n",
        "            # Block 3: Input (8x8x128) -> Output (16x16x64)\n",
        "            nn.ConvTranspose2d(128, 64, kernel_size=4, stride=2, padding=1),\n",
        "            nn.ReLU(),\n",
        "\n",
        "            # Final Block: Input (16x16x64) -> Output (32x32x1)\n",
        "            nn.ConvTranspose2d(64, 1, kernel_size=4, stride=2, padding=1),\n",
        "            nn.Tanh()\n",
        "        )\n",
        "\n",
        "    def forward(self, z):\n",
        "        # Pass the latent vector through the fully connected layer\n",
        "        out = self.fc(z)\n",
        "\n",
        "        # Reshape to match the initial feature map dimensions. out.size(0) = batch size.\n",
        "        out = out.view(out.size(0), 512, self.init_size, self.init_size)\n",
        "\n",
        "        # We pass \"out\" through the transposed convolutional blocks\n",
        "        img = self.deconv_blocks(out)\n",
        "\n",
        "        return img\n",
        "\n",
        "class Discriminator3(nn.Module):\n",
        "    def __init__(self, nc=1, ndf=32, ngpu=1):\n",
        "        \"\"\"\n",
        "        Args:\n",
        "            nc: Number of channels in the input image (e.g., 1 for grayscale).\n",
        "            ndf: Number of filters in the first convolutional layer.\n",
        "            ngpu: Number of GPUs available for training.\n",
        "        \"\"\"\n",
        "        super(Discriminator3, self).__init__()\n",
        "        self.ngpu = ngpu\n",
        "        self.main = nn.Sequential(\n",
        "            # Input: (nc) x 32 x 32\n",
        "            nn.Conv2d(1, ndf, 4, 2, 1, bias=False),  # 32x32 → 16x16\n",
        "            nn.LeakyReLU(0.2, inplace=True),\n",
        "            # State: (ndf) x 16 x 16\n",
        "            nn.Conv2d(ndf, ndf * 2, 4, 2, 1, bias=False),  # 16x16 → 8x8\n",
        "            #nn.BatchNorm2d(ndf * 2),\n",
        "            nn.LeakyReLU(0.2, inplace=True),\n",
        "            # State: (ndf*2) x 8 x 8\n",
        "            nn.Conv2d(ndf * 2, ndf * 4, 4, 2, 1, bias=False),  # 8x8 → 4x4\n",
        "            #nn.BatchNorm2d(ndf * 4),\n",
        "            nn.LeakyReLU(0.2, inplace=True),\n",
        "            # State: (ndf*4) x 4 x 4\n",
        "            nn.Conv2d(ndf * 4, 1, 4, 1, 0, bias=False),  # 4x4 → 1x1\n",
        "            nn.Sigmoid()  # Output scalar probability\n",
        "        )\n",
        "\n",
        "    def forward(self, input):\n",
        "        return self.main(input)"
      ]
    },
    {
      "cell_type": "code",
      "execution_count": null,
      "metadata": {
        "id": "vsoPo3fnZyzQ"
      },
      "outputs": [],
      "source": [
        "npz_file = '/content/gdrive/My Drive/character_font.npz'\n",
        "\n",
        "class NPZDataset(Dataset):\n",
        "    def __init__(self, npz_file, transform=None, filter_label=None, num_samples=None):\n",
        "        # Load the data from the .npz file\n",
        "        data = np.load(npz_file)\n",
        "        self.images = data['images']\n",
        "        self.labels = data['labels']\n",
        "        self.transform = transform\n",
        "\n",
        "        # Filter by label if specified\n",
        "        if filter_label is not None:\n",
        "            # Find indices of the desired label\n",
        "            label_indices = np.where(self.labels == filter_label)[0]\n",
        "\n",
        "            # If num_samples is specified, limit the number of samples\n",
        "            if num_samples is not None:\n",
        "                label_indices = label_indices[:num_samples]\n",
        "\n",
        "            # Filter images and labels\n",
        "            self.images = self.images[label_indices]\n",
        "            self.labels = self.labels[label_indices]\n",
        "\n",
        "    def __len__(self):\n",
        "        return len(self.images)\n",
        "\n",
        "    def __getitem__(self, idx):\n",
        "        # Get the image and label for the given index\n",
        "        image = self.images[idx]\n",
        "        label = self.labels[idx]\n",
        "\n",
        "        # Reshape the image to add a channel dimension\n",
        "        image = image[np.newaxis, ...]  # Add channel dimension at the beginning\n",
        "\n",
        "        # Apply transformations if any\n",
        "        if self.transform:\n",
        "            image = self.transform(image)\n",
        "\n",
        "        # Convert to PyTorch tensor if necessary\n",
        "        image = torch.tensor(image, dtype=torch.float32)\n",
        "        label = torch.tensor(label, dtype=torch.long)\n",
        "\n",
        "        return image, label"
      ]
    },
    {
      "cell_type": "code",
      "execution_count": null,
      "metadata": {
        "id": "my7w8W_HgLLv"
      },
      "outputs": [],
      "source": [
        "def compute_gradient_penalty(D, real_samples, fake_samples):\n",
        "    alpha = torch.rand(real_samples.size(0), 1, 1, 1, device=real_samples.device)\n",
        "    interpolates = (alpha * real_samples + ((1 - alpha) * fake_samples)).requires_grad_(True)\n",
        "    d_interpolates = D(interpolates)\n",
        "    fake = torch.ones(real_samples.size(0), 1, device=real_samples.device)\n",
        "    gradients = grad(outputs=d_interpolates, inputs=interpolates,\n",
        "                     grad_outputs=fake, create_graph=True, retain_graph=True, only_inputs=True)[0]\n",
        "    gradients = gradients.view(gradients.size(0), -1)\n",
        "    gradient_penalty = ((gradients.norm(2, dim=1) - 1) ** 2).mean()\n",
        "    return gradient_penalty\n"
      ]
    },
    {
      "cell_type": "code",
      "execution_count": null,
      "metadata": {
        "id": "vd0Se_Ttoyh4"
      },
      "outputs": [],
      "source": [
        "def number_to_alphabet(num):\n",
        "    if 0 <= num <= 25:\n",
        "        return chr(num + 65)  # 65 is the ASCII code for 'A'\n",
        "    else:\n",
        "        raise ValueError(\"Number must be between 0 and 25 inclusive.\")\n"
      ]
    },
    {
      "cell_type": "code",
      "execution_count": null,
      "metadata": {
        "id": "-Qn__347eZJ4"
      },
      "outputs": [],
      "source": [
        "def displayGeneratedImage(class_index, generator, z_dim, num_classes, device='cuda'):\n",
        "    \"\"\"\n",
        "    Generates and displays an image for a given class using the generator.\n",
        "\n",
        "    Args:\n",
        "        class_index (int): Index of the character class to generate (0 to num_classes - 1).\n",
        "        generator (nn.Module): Pre-trained generator model.\n",
        "        z_dim (int): Dimension of the style vector.\n",
        "        num_classes (int): Number of character classes.\n",
        "        device (str): Device for computation ('cuda' or 'cpu').\n",
        "    \"\"\"\n",
        "    # Ensure the class index is valid\n",
        "    if not (0 <= class_index < num_classes):\n",
        "        raise ValueError(f\"Invalid class_index: {class_index}. Must be in range [0, {num_classes - 1}].\")\n",
        "\n",
        "    # Create the one-hot vector for the class\n",
        "    z_c = torch.zeros(1, num_classes, device=device)\n",
        "    z_c[0, class_index] = 1  # Set the desired class\n",
        "\n",
        "    # Create the random style vector\n",
        "    z_s = torch.randn(1, z_dim, device=device)\n",
        "\n",
        "    # Concatenate the style and class vectors\n",
        "    z = torch.cat((z_s, z_c), dim=1)\n",
        "\n",
        "    # Generate the image\n",
        "    with torch.no_grad():\n",
        "        generated_img = generator(z).cpu().numpy()[0, 0]  # Extract the first batch and first channel\n",
        "\n",
        "    # Rescale the image from [-1, 1] to [0, 255]\n",
        "    #generated_img = np.rot90(generated_img, k=-1)\n",
        "    generated_img = np.uint8(np.interp(generated_img, (-1, 1), (0, 255)))\n",
        "\n",
        "    # Display the image\n",
        "    plt.figure(figsize=(5, 5))\n",
        "    plt.imshow(generated_img, cmap='gray')\n",
        "    plt.axis(\"off\")\n",
        "    plt.title(f\"Generated Image for Class {number_to_alphabet(class_index)}\")\n",
        "    plt.show()\n"
      ]
    },
    {
      "cell_type": "code",
      "execution_count": null,
      "metadata": {
        "id": "YxoHMB3AacDf"
      },
      "outputs": [],
      "source": [
        "transform = transforms.Compose([\n",
        "    transforms.ToTensor(),\n",
        "    transforms.Normalize((0.5,), (0.5,))  # Normalize to [-1, 1]\n",
        "])\n",
        "\n",
        "#dataset = NPZDataset(npz_file, transform=transform)"
      ]
    },
    {
      "cell_type": "code",
      "execution_count": null,
      "metadata": {
        "id": "In_xt_E_5_J0"
      },
      "outputs": [],
      "source": [
        "def compute_gradient_penalty(discriminator, real_samples, fake_samples, device=\"cuda\"):\n",
        "    \"\"\"\n",
        "    Compute the gradient penalty for WGAN-GP.\n",
        "\n",
        "    Args:\n",
        "        discriminator: The discriminator model.\n",
        "        real_samples: Batch of real images.\n",
        "        fake_samples: Batch of fake images generated by the generator.\n",
        "        device: The device to run the computations on.\n",
        "\n",
        "    Returns:\n",
        "        Gradient penalty (scalar).\n",
        "    \"\"\"\n",
        "    # Interpolate between real and fake samples\n",
        "    alpha = torch.randn(real_samples.size(0), 1, 1, 1, device=device)\n",
        "    interpolates = (alpha * real_samples + (1 - alpha) * fake_samples).requires_grad_(True)\n",
        "\n",
        "    # Pass interpolated samples through the discriminator\n",
        "    d_interpolates = discriminator(interpolates)  # Output shape: [batch_size, 1, 1, 1] or [batch_size, 1]\n",
        "\n",
        "    # Ensure the output is flat\n",
        "    d_interpolates = d_interpolates.view(-1)  # Flatten to [batch_size]\n",
        "\n",
        "    # Create grad_outputs for the gradient computation\n",
        "    fake = torch.ones(d_interpolates.size(), device=device)\n",
        "\n",
        "    # Compute gradients of the discriminator's output w.r.t. interpolated inputs\n",
        "    gradients = grad(\n",
        "        outputs=d_interpolates,\n",
        "        inputs=interpolates,\n",
        "        grad_outputs=fake,\n",
        "        create_graph=True,\n",
        "        retain_graph=True,\n",
        "        only_inputs=True,\n",
        "    )[0]\n",
        "\n",
        "    # Compute gradient penalty\n",
        "    gradients = gradients.view(gradients.size(0), -1)  # Flatten gradients\n",
        "    gradient_penalty = ((gradients.norm(2, dim=1) - 1) ** 2).mean()\n",
        "    return gradient_penalty\n"
      ]
    },
    {
      "cell_type": "code",
      "execution_count": null,
      "metadata": {
        "colab": {
          "base_uri": "https://localhost:8080/"
        },
        "id": "cw5G-vGNmn7a",
        "outputId": "a90b5c27-ecfe-47cc-e41a-11bd222cd849"
      },
      "outputs": [
        {
          "output_type": "stream",
          "name": "stderr",
          "text": [
            "<ipython-input-19-4f3e8d9164e4>:40: UserWarning: To copy construct from a tensor, it is recommended to use sourceTensor.clone().detach() or sourceTensor.clone().detach().requires_grad_(True), rather than torch.tensor(sourceTensor).\n",
            "  image = torch.tensor(image, dtype=torch.float32)\n"
          ]
        }
      ],
      "source": [
        "# Hyperparameters\n",
        "z_dim = 100\n",
        "num_classes = 26  # For uppercase alphabets\n",
        "img_size = 32  # Assuming 32x32 images\n",
        "batch_size = 1024\n",
        "lr = 0.0002\n",
        "lambda_gp = 10  # Gradient penalty weight\n",
        "n_critic = 5  # Number of discriminator updates per generator update\n",
        "epochs = 2500\n",
        "\n",
        "fullData = NPZDataset(npz_file, transform)\n",
        "train_data,test_data = train_test_split(fullData,test_size = 0.1)"
      ]
    },
    {
      "cell_type": "code",
      "execution_count": 27,
      "metadata": {
        "id": "ZfqBaqlzZn2Z",
        "colab": {
          "base_uri": "https://localhost:8080/",
          "height": 1000
        },
        "outputId": "8cb8b5de-826f-454e-a1a4-23033105cffb"
      },
      "outputs": [
        {
          "output_type": "display_data",
          "data": {
            "text/plain": [
              "<Figure size 500x500 with 1 Axes>"
            ],
            "image/png": "[encoded data removed]"
          },
          "metadata": {}
        },
        {
          "output_type": "display_data",
          "data": {
            "text/plain": [
              "<Figure size 500x500 with 1 Axes>"
            ],
            "image/png": "[encoded data removed]"
          },
          "metadata": {}
        },
        {
          "output_type": "display_data",
          "data": {
            "text/plain": [
              "<Figure size 500x500 with 1 Axes>"
            ],
            "image/png": "[encoded data removed]"
          },
          "metadata": {}
        },
        {
          "output_type": "display_data",
          "data": {
            "text/plain": [
              "<Figure size 500x500 with 1 Axes>"
            ],
            "image/png": "[encoded data removed]"
          },
          "metadata": {}
        },
        {
          "output_type": "display_data",
          "data": {
            "text/plain": [
              "<Figure size 500x500 with 1 Axes>"
            ],
            "image/png": "[encoded data removed]"
          },
          "metadata": {}
        },
        {
          "output_type": "error",
          "ename": "KeyboardInterrupt",
          "evalue": "",
          "traceback": [
            "\u001b[0;31m---------------------------------------------------------------------------\u001b[0m",
            "\u001b[0;31mKeyboardInterrupt\u001b[0m                         Traceback (most recent call last)",
            "\u001b[0;32m<ipython-input-27-1911f9cea441>\u001b[0m in \u001b[0;36m<cell line: 22>\u001b[0;34m()\u001b[0m\n\u001b[1;32m     47\u001b[0m         \u001b[0;31m# Train Generator every n_critic steps\u001b[0m\u001b[0;34m\u001b[0m\u001b[0;34m\u001b[0m\u001b[0m\n\u001b[1;32m     48\u001b[0m         \u001b[0;32mif\u001b[0m \u001b[0mi\u001b[0m \u001b[0;34m%\u001b[0m \u001b[0mn_critic\u001b[0m \u001b[0;34m==\u001b[0m \u001b[0;36m0\u001b[0m\u001b[0;34m:\u001b[0m\u001b[0;34m\u001b[0m\u001b[0;34m\u001b[0m\u001b[0m\n\u001b[0;32m---> 49\u001b[0;31m             \u001b[0mz_s\u001b[0m \u001b[0;34m=\u001b[0m \u001b[0mtorch\u001b[0m\u001b[0;34m.\u001b[0m\u001b[0mrandn\u001b[0m\u001b[0;34m(\u001b[0m\u001b[0mbatch_size\u001b[0m\u001b[0;34m,\u001b[0m \u001b[0mz_dim\u001b[0m\u001b[0;34m)\u001b[0m\u001b[0;34m.\u001b[0m\u001b[0mcuda\u001b[0m\u001b[0;34m(\u001b[0m\u001b[0;34m)\u001b[0m  \u001b[0;31m# Regenerate z_s\u001b[0m\u001b[0;34m\u001b[0m\u001b[0;34m\u001b[0m\u001b[0m\n\u001b[0m\u001b[1;32m     50\u001b[0m             \u001b[0mz\u001b[0m \u001b[0;34m=\u001b[0m \u001b[0mtorch\u001b[0m\u001b[0;34m.\u001b[0m\u001b[0mcat\u001b[0m\u001b[0;34m(\u001b[0m\u001b[0;34m(\u001b[0m\u001b[0mz_s\u001b[0m\u001b[0;34m,\u001b[0m \u001b[0mz_c\u001b[0m\u001b[0;34m)\u001b[0m\u001b[0;34m,\u001b[0m \u001b[0mdim\u001b[0m\u001b[0;34m=\u001b[0m\u001b[0;36m1\u001b[0m\u001b[0;34m)\u001b[0m  \u001b[0;31m# Shape: (batch_size, z_dim + num_classes)\u001b[0m\u001b[0;34m\u001b[0m\u001b[0;34m\u001b[0m\u001b[0m\n\u001b[1;32m     51\u001b[0m             \u001b[0mfake_imgs\u001b[0m \u001b[0;34m=\u001b[0m \u001b[0mgenerator\u001b[0m\u001b[0;34m(\u001b[0m\u001b[0mz\u001b[0m\u001b[0;34m)\u001b[0m  \u001b[0;31m# Generate new fake images\u001b[0m\u001b[0;34m\u001b[0m\u001b[0;34m\u001b[0m\u001b[0m\n",
            "\u001b[0;31mKeyboardInterrupt\u001b[0m: "
          ]
        }
      ],
      "source": [
        "\n",
        "grouped_data = defaultdict(list)\n",
        "for img, label in train_data:\n",
        "    grouped_data[label.item()].append((img, label))\n",
        "\n",
        "# Convert grouped data into datasets\n",
        "grouped_datasets = {label: [(img, lbl) for img, lbl in imgs] for label, imgs in grouped_data.items()}\n",
        "grouped_dataloaders = {\n",
        "    letter: DataLoader(dataset, batch_size=batch_size, shuffle=False)\n",
        "    for letter, dataset in grouped_datasets.items()\n",
        "}\n",
        "\n",
        "#dataloader = DataLoader(train_data, batch_size=batch_size, shuffle=True)\n",
        "device = torch.device(\"cuda\" if torch.cuda.is_available() else \"cpu\")\n",
        "\n",
        "# Initialize models and optimizers\n",
        "generator = Generator3(126).cuda()\n",
        "discriminator = Discriminator3(nc=1, ndf=32, ngpu=1).cuda()\n",
        "optimizer_G = optim.Adam(generator.parameters(), lr=lr, betas=(0.5, 0.9))\n",
        "optimizer_D = optim.Adam(discriminator.parameters(), lr=lr, betas=(0.5, 0.9))\n",
        "\n",
        "# Training\n",
        "for epoch in range(epochs):\n",
        "  for letter in range(num_classes):  # Iterate over 26 letters (A-Z)\n",
        "    dataloader = grouped_dataloaders[letter]\n",
        "    for i, (real_imgs, labels) in enumerate(dataloader):\n",
        "        # Fix real_imgs shape\n",
        "        real_imgs = real_imgs.permute(0, 2, 3, 1).cuda()  # Convert to (batch_size, channels, height, width)\n",
        "        labels = labels.cuda()\n",
        "        batch_size = labels.shape[0]\n",
        "        # Generate one-hot vectors for labels\n",
        "        z_c = torch.zeros(batch_size, num_classes).cuda()\n",
        "        z_c[torch.arange(batch_size), labels] = 1\n",
        "\n",
        "        # Train Discriminator\n",
        "        z_s = torch.randn(batch_size, z_dim).cuda()\n",
        "        z = torch.cat((z_s, z_c), dim=1)  # Shape: (batch_size, z_dim + num_classes)\n",
        "        fake_imgs = generator(z)\n",
        "        real_validity = discriminator(real_imgs)\n",
        "        fake_validity = discriminator(fake_imgs.detach())  # Detach to avoid affecting generator\n",
        "        gradient_penalty = compute_gradient_penalty(discriminator, real_imgs, fake_imgs)\n",
        "        d_loss = -torch.mean(real_validity) + torch.mean(fake_validity) + lambda_gp * gradient_penalty\n",
        "\n",
        "        optimizer_D.zero_grad()\n",
        "        d_loss.backward()\n",
        "        optimizer_D.step()\n",
        "\n",
        "        # Train Generator every n_critic steps\n",
        "        if i % n_critic == 0:\n",
        "            z_s = torch.randn(batch_size, z_dim).cuda()  # Regenerate z_s\n",
        "            z = torch.cat((z_s, z_c), dim=1)  # Shape: (batch_size, z_dim + num_classes)\n",
        "            fake_imgs = generator(z)  # Generate new fake images\n",
        "            fake_validity = discriminator(fake_imgs)\n",
        "            g_loss = -torch.mean(fake_validity)\n",
        "\n",
        "            optimizer_G.zero_grad()\n",
        "            g_loss.backward()  # No retain_graph needed\n",
        "            optimizer_G.step()\n",
        "\n",
        "    displayGeneratedImage(class_index=letter, generator=generator, z_dim=z_dim, num_classes=num_classes, device='cuda')\n",
        "  print(f\"Epoch [{epoch+1}/{epochs}], D_loss: {d_loss.item()}, G_loss: {g_loss.item()}\")"
      ]
    }
  ],
  "metadata": {
    "accelerator": "GPU",
    "colab": {
      "gpuType": "L4",
      "machine_shape": "hm",
      "provenance": [],
      "authorship_tag": "ABX9TyOgOOlcVNKNqjVGdcY1fvhY",
      "include_colab_link": true
    },
    "kernelspec": {
      "display_name": "Python 3",
      "name": "python3"
    },
    "language_info": {
      "name": "python"
    }
  },
  "nbformat": 4,
  "nbformat_minor": 0
}