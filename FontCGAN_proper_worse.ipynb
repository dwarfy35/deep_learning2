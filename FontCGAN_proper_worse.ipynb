{
  "cells": [
    {
      "cell_type": "markdown",
      "metadata": {
        "id": "view-in-github",
        "colab_type": "text"
      },
      "source": [
        "<a href=\"https://colab.research.google.com/github/dwarfy35/deep_learning2/blob/main/FontCGAN_proper_worse.ipynb\" target=\"_parent\"><img src=\"https://colab.research.google.com/assets/colab-badge.svg\" alt=\"Open In Colab\"/></a>"
      ]
    },
    {
      "cell_type": "code",
      "execution_count": 109,
      "metadata": {
        "colab": {
          "base_uri": "https://localhost:8080/"
        },
        "id": "jd36ANKxZZuB",
        "outputId": "283f40c8-2489-4d3e-ba76-502759feba4f"
      },
      "outputs": [
        {
          "output_type": "stream",
          "name": "stdout",
          "text": [
            "Drive already mounted at /content/gdrive; to attempt to forcibly remount, call drive.mount(\"/content/gdrive\", force_remount=True).\n"
          ]
        }
      ],
      "source": [
        "import matplotlib.pyplot as plt\n",
        "import numpy as np\n",
        "import torch\n",
        "import torch.optim as optim\n",
        "import torch.nn as nn\n",
        "from torch.utils.data import Dataset, DataLoader\n",
        "from torchvision import transforms\n",
        "from google.colab import drive\n",
        "from torch.autograd import grad\n",
        "from sklearn.model_selection import train_test_split\n",
        "from torch.utils.data import ConcatDataset\n",
        "from torch.autograd import grad\n",
        "from collections import defaultdict\n",
        "\n",
        "drive.mount('/content/gdrive')"
      ]
    },
    {
      "cell_type": "code",
      "execution_count": 110,
      "metadata": {
        "id": "5g6LYnHMxnzT"
      },
      "outputs": [],
      "source": [
        "ngf = 32\n",
        "nc = 1\n",
        "ndf = 32"
      ]
    },
    {
      "cell_type": "code",
      "execution_count": 111,
      "metadata": {
        "id": "fX2qIT2U26nz"
      },
      "outputs": [],
      "source": [
        "class Generator3(nn.Module):\n",
        "    def __init__(self, latent_dim, num_classes=26):\n",
        "        super(Generator3, self).__init__()\n",
        "        self.latent_dim = latent_dim\n",
        "        self.condition_dim = 128  # Encoded condition size\n",
        "\n",
        "        # Condition encoder\n",
        "        self.condition_encoder = nn.Sequential(\n",
        "            nn.Conv2d(1, 64, kernel_size=4, stride=2, padding=1),  # 32x32 -> 16x16\n",
        "            nn.ReLU(),\n",
        "            nn.Conv2d(64, 128, kernel_size=4, stride=2, padding=1),  # 16x16 -> 8x8\n",
        "            nn.ReLU(),\n",
        "            nn.Flatten(),\n",
        "            nn.Linear(8 * 8 * 128, self.condition_dim),\n",
        "            nn.ReLU()\n",
        "        )\n",
        "\n",
        "        # Fully connected layers\n",
        "        self.fc = nn.Linear(latent_dim + num_classes + self.condition_dim, 512 * 2 * 2)\n",
        "\n",
        "        # Deconvolutional blocks\n",
        "        self.deconv_blocks = nn.Sequential(\n",
        "            nn.ConvTranspose2d(512, 256, kernel_size=4, stride=2, padding=1),  # 2x2 -> 4x4\n",
        "            nn.ReLU(),\n",
        "            nn.ConvTranspose2d(256, 128, kernel_size=4, stride=2, padding=1),  # 4x4 -> 8x8\n",
        "            nn.ReLU(),\n",
        "            nn.ConvTranspose2d(128, 64, kernel_size=4, stride=2, padding=1),  # 8x8 -> 16x16\n",
        "            nn.ReLU(),\n",
        "            nn.ConvTranspose2d(64, 1, kernel_size=4, stride=2, padding=1),  # 16x16 -> 32x32\n",
        "            nn.Tanh()\n",
        "        )\n",
        "\n",
        "    def forward(self, z, label, condition_image):\n",
        "        condition = self.condition_encoder(condition_image)\n",
        "        z_combined = torch.cat((z, label, condition), dim=1)\n",
        "        out = self.fc(z_combined)\n",
        "        out = out.view(out.size(0), 512, 2, 2)\n",
        "        img = self.deconv_blocks(out)\n",
        "        return img\n",
        "\n",
        "\n",
        "\n",
        "class Discriminator3(nn.Module):\n",
        "    def __init__(self, num_classes=26):\n",
        "        super(Discriminator3, self).__init__()\n",
        "        self.label_embedding = nn.Linear(num_classes, 32 * 32)\n",
        "\n",
        "        self.main = nn.Sequential(\n",
        "            nn.Conv2d(2, 64, kernel_size=4, stride=2, padding=1),  # Input: (1+1)x32x32\n",
        "            nn.LeakyReLU(0.2, inplace=True),\n",
        "            nn.Conv2d(64, 128, kernel_size=4, stride=2, padding=1),\n",
        "            nn.LeakyReLU(0.2, inplace=True),\n",
        "            nn.Conv2d(128, 256, kernel_size=4, stride=2, padding=1),\n",
        "            nn.LeakyReLU(0.2, inplace=True),\n",
        "            nn.Conv2d(256, 1, kernel_size=4, stride=1, padding=0)  # Output: scalar validity\n",
        "        )\n",
        "\n",
        "    def forward(self, img, label, condition_img):\n",
        "        label_embedding = self.label_embedding(label).view(-1, 1, 32, 32)\n",
        "        x = torch.cat((img, condition_img), dim=1)\n",
        "        validity = self.main(x)\n",
        "        return validity\n",
        "\n"
      ]
    },
    {
      "cell_type": "code",
      "execution_count": 112,
      "metadata": {
        "id": "vsoPo3fnZyzQ"
      },
      "outputs": [],
      "source": [
        "npz_file = '/content/gdrive/My Drive/character_font.npz'\n",
        "\n",
        "class NPZDataset(Dataset):\n",
        "    def __init__(self, npz_file, transform=None, filter_label=None, num_samples=None):\n",
        "        # Load the data from the .npz file\n",
        "        data = np.load(npz_file)\n",
        "        self.images = data['images']\n",
        "        self.labels = data['labels']\n",
        "        self.transform = transform\n",
        "\n",
        "        # Filter by label if specified\n",
        "        if filter_label is not None:\n",
        "            # Find indices of the desired label\n",
        "            label_indices = np.where(self.labels == filter_label)[0]\n",
        "\n",
        "            # If num_samples is specified, limit the number of samples\n",
        "            if num_samples is not None:\n",
        "                label_indices = label_indices[:num_samples]\n",
        "\n",
        "            # Filter images and labels\n",
        "            self.images = self.images[label_indices]\n",
        "            self.labels = self.labels[label_indices]\n",
        "\n",
        "    def __len__(self):\n",
        "        return len(self.images)\n",
        "\n",
        "    def __getitem__(self, idx):\n",
        "        # Get the image and label for the given index\n",
        "        image = self.images[idx]\n",
        "        label = self.labels[idx]\n",
        "\n",
        "        # Reshape the image to add a channel dimension\n",
        "        image = image[np.newaxis, ...]  # Add channel dimension at the beginning\n",
        "\n",
        "        # Apply transformations if any\n",
        "        if self.transform:\n",
        "            image = self.transform(image)\n",
        "\n",
        "        # Convert to PyTorch tensor if necessary\n",
        "        image = torch.tensor(image, dtype=torch.float32)\n",
        "        label = torch.tensor(label, dtype=torch.long)\n",
        "\n",
        "        return image, label"
      ]
    },
    {
      "cell_type": "code",
      "source": [
        "class FontConditionalDataset(Dataset):\n",
        "    def __init__(self, npz_file, transform=None):\n",
        "        data = np.load(npz_file)\n",
        "        self.images = data['images']  # Shape: (N, 32, 32)\n",
        "        self.labels = data['labels']  # Shape: (N,)\n",
        "        self.num_fonts = len(self.images) // 26  # Number of fonts\n",
        "        self.num_letters = 26  # Number of letters (A-Z)\n",
        "        self.transform = transform\n",
        "\n",
        "        # Precompute all valid (condition_image, target_image) pairs\n",
        "        self.pairs = []\n",
        "        for font_idx in range(self.num_fonts):\n",
        "            for letter_idx in range(self.num_letters):\n",
        "                condition_idx = font_idx * self.num_letters + letter_idx\n",
        "                if condition_idx >= len(self.images):\n",
        "                    continue\n",
        "\n",
        "                target_idx = font_idx * self.num_letters + (letter_idx - 1) % self.num_letters\n",
        "                if target_idx >= len(self.images):\n",
        "                    continue\n",
        "\n",
        "                self.pairs.append((condition_idx, target_idx))\n",
        "\n",
        "    def __len__(self):\n",
        "        return len(self.pairs)\n",
        "\n",
        "    def __getitem__(self, idx):\n",
        "      # Retrieve \"A\" (condition) and target images\n",
        "      font_idx = idx // self.num_letters\n",
        "      condition_idx = font_idx * self.num_letters  # Index of 'A'\n",
        "      target_idx = idx\n",
        "\n",
        "      condition_image = self.images[condition_idx]\n",
        "      target_image = self.images[target_idx]\n",
        "\n",
        "      # Normalize and one-hot encode\n",
        "      if self.transform:\n",
        "          condition_image = self.transform(condition_image)\n",
        "          target_image = self.transform(target_image)\n",
        "\n",
        "      target_label = target_idx % self.num_letters\n",
        "      target_label_one_hot = torch.zeros(self.num_letters)\n",
        "      target_label_one_hot[target_label] = 1\n",
        "\n",
        "      return condition_image, target_label_one_hot, target_image\n",
        "\n"
      ],
      "metadata": {
        "id": "LwPTMqigoOTq"
      },
      "execution_count": 113,
      "outputs": []
    },
    {
      "cell_type": "code",
      "source": [],
      "metadata": {
        "id": "i4QCbvF-JUVJ"
      },
      "execution_count": 113,
      "outputs": []
    },
    {
      "cell_type": "code",
      "execution_count": 114,
      "metadata": {
        "id": "my7w8W_HgLLv"
      },
      "outputs": [],
      "source": [
        "def compute_gradient_penalty(D, real_samples, fake_samples):\n",
        "    alpha = torch.rand(real_samples.size(0), 1, 1, 1, device=real_samples.device)\n",
        "    interpolates = (alpha * real_samples + ((1 - alpha) * fake_samples)).requires_grad_(True)\n",
        "    d_interpolates = D(interpolates)\n",
        "    fake = torch.ones(real_samples.size(0), 1, device=real_samples.device)\n",
        "    gradients = grad(outputs=d_interpolates, inputs=interpolates,\n",
        "                     grad_outputs=fake, create_graph=True, retain_graph=True, only_inputs=True)[0]\n",
        "    gradients = gradients.view(gradients.size(0), -1)\n",
        "    gradient_penalty = ((gradients.norm(2, dim=1) - 1) ** 2).mean()\n",
        "    return gradient_penalty\n"
      ]
    },
    {
      "cell_type": "code",
      "execution_count": 115,
      "metadata": {
        "id": "vd0Se_Ttoyh4"
      },
      "outputs": [],
      "source": [
        "def number_to_alphabet(num):\n",
        "    if 0 <= num <= 25:\n",
        "        return chr(num + 65)  # 65 is the ASCII code for 'A'\n",
        "    else:\n",
        "        raise ValueError(\"Number must be between 0 and 25 inclusive.\")\n"
      ]
    },
    {
      "cell_type": "code",
      "execution_count": 116,
      "metadata": {
        "id": "-Qn__347eZJ4"
      },
      "outputs": [],
      "source": [
        "def displayGeneratedImage(class_index, generator, z_s, num_classes, condition_img, device='cuda'):\n",
        "    \"\"\"\n",
        "    Generates and displays an image for a given class using the generator.\n",
        "\n",
        "    Args:\n",
        "        class_index (int): Index of the character class to generate (0 to num_classes - 1).\n",
        "        generator (nn.Module): Pre-trained generator model.\n",
        "        z_s (torch.Tensor): Style vector of shape (1, z_dim).\n",
        "        num_classes (int): Number of character classes.\n",
        "        condition_img (torch.Tensor): Conditional image of shape (1, 32, 32).\n",
        "        device (str): Device for computation ('cuda' or 'cpu').\n",
        "    \"\"\"\n",
        "    # Ensure the class index is valid\n",
        "    if not (0 <= class_index < num_classes):\n",
        "        raise ValueError(f\"Invalid class_index: {class_index}. Must be in range [0, {num_classes - 1}].\")\n",
        "\n",
        "    # Create the one-hot vector for the class\n",
        "    z_c = torch.zeros(1, num_classes, device=device)\n",
        "    z_c[0, class_index] = 1  # Set the desired class\n",
        "\n",
        "    # Ensure the conditional image is in the correct shape\n",
        "    condition_img = condition_img.unsqueeze(0).to(device)  # Add batch dimension if needed\n",
        "\n",
        "    # Generate the image\n",
        "    with torch.no_grad():\n",
        "        generated_img = generator(z_s, z_c, condition_img).cpu().numpy()[0, 0]  # Extract the first batch and channel\n",
        "\n",
        "    # Rescale the image from [-1, 1] to [0, 255]\n",
        "    generated_img = np.uint8(np.interp(generated_img, (-1, 1), (0, 255)))\n",
        "\n",
        "    # Display the image\n",
        "    plt.figure(figsize=(5, 5))\n",
        "    plt.imshow(generated_img, cmap='gray')\n",
        "    plt.axis(\"off\")\n",
        "    plt.title(f\"Generated Image for Class {number_to_alphabet(class_index)}\")\n",
        "    plt.show()\n"
      ]
    },
    {
      "cell_type": "code",
      "execution_count": 117,
      "metadata": {
        "id": "YxoHMB3AacDf"
      },
      "outputs": [],
      "source": [
        "transform = transforms.Compose([\n",
        "    transforms.ToTensor(),\n",
        "    transforms.Normalize((0.5,), (0.5,))  # Normalize to [-1, 1]\n",
        "])\n",
        "\n",
        "#dataset = NPZDataset(npz_file, transform=transform)"
      ]
    },
    {
      "cell_type": "code",
      "execution_count": 118,
      "metadata": {
        "id": "cw5G-vGNmn7a",
        "colab": {
          "base_uri": "https://localhost:8080/"
        },
        "outputId": "0279970d-9b28-4890-ddbb-ed0e83e248ee"
      },
      "outputs": [
        {
          "output_type": "stream",
          "name": "stdout",
          "text": [
            "Total data size: 389740\n",
            "Training data size: 77948\n",
            "Testing data size: 38974\n",
            "Validation data size: 272818\n"
          ]
        }
      ],
      "source": [
        "# Hyperparameters\n",
        "z_dim = 512\n",
        "num_classes = 26  # For uppercase alphabets\n",
        "img_size = 32  # Assuming 32x32 images\n",
        "batch_size = 1024\n",
        "lr = 0.0005\n",
        "lambda_gp = 10  # Gradient penalty weight\n",
        "n_critic = 5  # Number of discriminator updates per generator update\n",
        "epochs = 1000\n",
        "from torch.utils.data import random_split\n",
        "\n",
        "# Load the full dataset\n",
        "full_data = FontConditionalDataset(npz_file, transform)\n",
        "\n",
        "# Split sizes\n",
        "total_size = len(full_data)\n",
        "train_size = int(0.2 * total_size)  # 20% for training\n",
        "test_size = int(0.1 * total_size)   # 10% for testing\n",
        "validation_size = int(0.1 * total_size)  # 10% for validation\n",
        "\n",
        "# Ensure the splits add up to the total size\n",
        "remaining_size = total_size - (train_size + test_size + validation_size)\n",
        "\n",
        "# Distribute the remaining size (if any) to one of the splits to ensure correct distribution\n",
        "if remaining_size > 0:\n",
        "    validation_size += remaining_size  # Add leftovers to validation split\n",
        "\n",
        "# Split the dataset\n",
        "train_data, test_data, val_data = random_split(full_data, [train_size, test_size, validation_size])\n",
        "\n",
        "print(f\"Total data size: {total_size}\")\n",
        "print(f\"Training data size: {len(train_data)}\")\n",
        "print(f\"Testing data size: {len(test_data)}\")\n",
        "print(f\"Validation data size: {len(val_data)}\")\n"
      ]
    },
    {
      "cell_type": "code",
      "source": [
        "npz_file = '/content/gdrive/My Drive/character_font.npz'\n",
        "# Load the dataset\n",
        "#dataset = FontConditionalDataset(npz_file=npz_file, transform=transform)\n",
        "\n",
        "# Create DataLoader\n",
        "dataloader = DataLoader(train_data, batch_size=batch_size, shuffle=True)\n",
        "test_dataloader = DataLoader(test_data, batch_size=batch_size, shuffle=True)\n",
        "\n",
        "#dataloader = DataLoader(train_data, batch_size=batch_size, shuffle=True)\n",
        "device = torch.device(\"cuda\" if torch.cuda.is_available() else \"cpu\")\n",
        "\n",
        "# Initialize models and optimizers\n"
      ],
      "metadata": {
        "id": "lXWFyHl_oeN2"
      },
      "execution_count": 119,
      "outputs": []
    },
    {
      "cell_type": "code",
      "source": [],
      "metadata": {
        "id": "9T9-Yq_Uq7Tl"
      },
      "execution_count": 119,
      "outputs": []
    },
    {
      "cell_type": "code",
      "source": [
        "def display_images_from_dataloader(dataloader, generator=None, z_dim=None, num_classes=26, device=\"cuda\", num_samples=5):\n",
        "    \"\"\"\n",
        "    Displays condition images, target images, and optionally generated images from the dataloader.\n",
        "\n",
        "    Args:\n",
        "        dataloader (DataLoader): The dataloader to pull samples from.\n",
        "        generator (nn.Module, optional): The generator model to produce generated images. If None, only real images are shown.\n",
        "        z_dim (int, optional): The latent dimension for the generator's input.\n",
        "        num_classes (int, optional): The number of classes (default is 26 for A-Z).\n",
        "        device (str, optional): Device to run the generator (e.g., \"cuda\" or \"cpu\").\n",
        "        num_samples (int, optional): Number of samples to display.\n",
        "    \"\"\"\n",
        "    # Get a batch of data\n",
        "    data_iter = iter(dataloader)\n",
        "    condition_imgs, target_labels, target_imgs = next(data_iter)\n",
        "\n",
        "    # Move data to device\n",
        "    condition_imgs = condition_imgs[:num_samples].unsqueeze(1).to(device)  # Shape: (num_samples, 1, 32, 32)\n",
        "    target_imgs = target_imgs[:num_samples].unsqueeze(1).to(device)        # Shape: (num_samples, 1, 32, 32)\n",
        "    target_labels = target_labels[:num_samples].to(device)                # Shape: (num_samples, num_classes)\n",
        "\n",
        "    # Initialize latent noise for the generator\n",
        "    if generator is not None and z_dim is not None:\n",
        "        z_s = torch.randn(num_samples, z_dim).to(device)  # Latent noise\n",
        "        generated_imgs = generator(z_s, target_labels, condition_imgs).detach().cpu()  # Generate images\n",
        "    else:\n",
        "        generated_imgs = None\n",
        "\n",
        "    # Create a figure to display images\n",
        "    fig, axes = plt.subplots(num_samples, 3 if generator else 2, figsize=(10, num_samples * 3))\n",
        "\n",
        "    for i in range(num_samples):\n",
        "        # Plot condition image\n",
        "        axes[i, 0].imshow(condition_imgs[i].squeeze().cpu().numpy(), cmap=\"gray\")\n",
        "        axes[i, 0].set_title(\"Condition Image\")\n",
        "        axes[i, 0].axis(\"off\")\n",
        "\n",
        "        # Plot target image\n",
        "        axes[i, 1].imshow(target_imgs[i].squeeze().cpu().numpy(), cmap=\"gray\")\n",
        "        axes[i, 1].set_title(\"Target Image\")\n",
        "        axes[i, 1].axis(\"off\")\n",
        "\n",
        "        # Plot generated image (if generator is provided)\n",
        "        if generator is not None:\n",
        "            axes[i, 2].imshow(generated_imgs[i].squeeze().numpy(), cmap=\"gray\")\n",
        "            axes[i, 2].set_title(\"Generated Image\")\n",
        "            axes[i, 2].axis(\"off\")\n",
        "\n",
        "    plt.tight_layout()\n",
        "    plt.show()"
      ],
      "metadata": {
        "id": "ainH6AdfrDOk"
      },
      "execution_count": 120,
      "outputs": []
    },
    {
      "cell_type": "code",
      "source": [
        "# Display images from the dataloader\n",
        "display_images_from_dataloader(\n",
        "    dataloader=dataloader,  # Example: Dataloader for the first letter\n",
        "    generator=None,  # Pass the generator model to visualize generated images\n",
        "    # z_dim=z_dim,  # Latent dimension\n",
        "    num_classes=num_classes,\n",
        "    device=device,\n",
        "    num_samples=5  # Number of samples to display\n",
        ")\n"
      ],
      "metadata": {
        "colab": {
          "base_uri": "https://localhost:8080/",
          "height": 1000
        },
        "id": "MFyWh14zrW3L",
        "outputId": "648e7207-056c-4a69-af0e-837c2963ca50"
      },
      "execution_count": 121,
      "outputs": [
        {
          "output_type": "display_data",
          "data": {
            "text/plain": [
              "<Figure size 1000x1500 with 10 Axes>"
            ],
            "image/png": "[encoded data removed]"
          },
          "metadata": {}
        }
      ]
    },
    {
      "cell_type": "code",
      "source": [
        "def compute_gradient_penalty(discriminator, real_samples, fake_samples, condition_imgs, labels):\n",
        "    \"\"\"\n",
        "    Compute the gradient penalty for WGAN-GP.\n",
        "\n",
        "    Args:\n",
        "        discriminator (nn.Module): The discriminator model.\n",
        "        real_samples (Tensor): Real samples from the dataset.\n",
        "        fake_samples (Tensor): Generated samples from the generator.\n",
        "        condition_imgs (Tensor): Conditional images.\n",
        "        labels (Tensor): One-hot encoded labels for the target letters.\n",
        "\n",
        "    Returns:\n",
        "        Tensor: Gradient penalty value.\n",
        "    \"\"\"\n",
        "    device = real_samples.device\n",
        "\n",
        "    # Random weight for interpolation\n",
        "    alpha = torch.rand(real_samples.size(0), 1, 1, 1, device=device)  # Shape: (batch_size, 1, 1, 1)\n",
        "    alpha = alpha.expand_as(real_samples)\n",
        "\n",
        "    # Interpolated samples\n",
        "    interpolates = (alpha * real_samples + (1 - alpha) * fake_samples).requires_grad_(True)\n",
        "\n",
        "    # Ensure condition_imgs and labels are not None\n",
        "    assert condition_imgs is not None, \"condition_imgs cannot be None for gradient penalty.\"\n",
        "    assert labels is not None, \"labels cannot be None for gradient penalty.\"\n",
        "\n",
        "    # Compute discriminator output for interpolated samples\n",
        "    d_interpolates = discriminator(interpolates, labels, condition_imgs)\n",
        "\n",
        "    # Compute gradients\n",
        "    grad_outputs = torch.ones(d_interpolates.size(), device=device)\n",
        "    gradients = torch.autograd.grad(\n",
        "        outputs=d_interpolates,\n",
        "        inputs=interpolates,\n",
        "        grad_outputs=grad_outputs,\n",
        "        create_graph=True,\n",
        "        retain_graph=True,\n",
        "        only_inputs=True\n",
        "    )[0]\n",
        "\n",
        "    # Compute gradient penalty\n",
        "    gradients = gradients.view(gradients.size(0), -1)  # Flatten gradients\n",
        "    gradient_penalty = ((gradients.norm(2, dim=1) - 1) ** 2).mean()\n",
        "\n",
        "    return gradient_penalty\n",
        "\n"
      ],
      "metadata": {
        "id": "0qNjKCkgvsM2"
      },
      "execution_count": 122,
      "outputs": []
    },
    {
      "cell_type": "code",
      "source": [
        "def test_generator(generator, test_dataloader, z_dim, num_classes, device):\n",
        "    generator.eval()  # Set generator to evaluation mode\n",
        "    with torch.no_grad():\n",
        "        for i, (condition_imgs, target_labels, target_imgs) in enumerate(test_dataloader):\n",
        "            # Move data to the appropriate device\n",
        "            condition_imgs = condition_imgs.to(device)  # Add channel dimension\n",
        "            target_labels = target_labels.to(device)\n",
        "            batch_size = condition_imgs.size(0)\n",
        "\n",
        "            # Generate latent noise\n",
        "            z_s = torch.randn(batch_size, z_dim, device=device)\n",
        "\n",
        "            # Display or evaluate generated images\n",
        "            #for j in range(batch_size):\n",
        "                # Extract data for the current sample\n",
        "            condition_img = condition_imgs[0]\n",
        "            z_s_single = z_s[0:0+1]  # Extract single latent vector\n",
        "            target_label = torch.argmax(target_labels[0]).item()  # Extract scalar label\n",
        "\n",
        "                # Display generated image using the updated function\n",
        "            displayGeneratedImage(\n",
        "                    class_index=target_label,\n",
        "                    generator=generator,\n",
        "                    z_s=z_s_single,\n",
        "                    num_classes=num_classes,\n",
        "                    condition_img=condition_img,\n",
        "                    device=device\n",
        "                )\n",
        "\n",
        "    generator.train()  # Return generator to training mode\n"
      ],
      "metadata": {
        "id": "r21ygu0BBjBk"
      },
      "execution_count": 123,
      "outputs": []
    },
    {
      "cell_type": "code",
      "execution_count": 128,
      "metadata": {
        "id": "ZfqBaqlzZn2Z",
        "colab": {
          "base_uri": "https://localhost:8080/",
          "height": 356
        },
        "outputId": "f25ad284-b73b-4b96-84ba-edd4bc42c05a"
      },
      "outputs": [
        {
          "output_type": "error",
          "ename": "KeyboardInterrupt",
          "evalue": "",
          "traceback": [
            "\u001b[0;31m---------------------------------------------------------------------------\u001b[0m",
            "\u001b[0;31mKeyboardInterrupt\u001b[0m                         Traceback (most recent call last)",
            "\u001b[0;32m<ipython-input-128-fc8040644231>\u001b[0m in \u001b[0;36m<cell line: 22>\u001b[0;34m()\u001b[0m\n\u001b[1;32m     21\u001b[0m \u001b[0;34m\u001b[0m\u001b[0m\n\u001b[1;32m     22\u001b[0m \u001b[0;32mfor\u001b[0m \u001b[0mepoch\u001b[0m \u001b[0;32min\u001b[0m \u001b[0mrange\u001b[0m\u001b[0;34m(\u001b[0m\u001b[0mepochs\u001b[0m\u001b[0;34m)\u001b[0m\u001b[0;34m:\u001b[0m\u001b[0;34m\u001b[0m\u001b[0;34m\u001b[0m\u001b[0m\n\u001b[0;32m---> 23\u001b[0;31m     \u001b[0;32mfor\u001b[0m \u001b[0mi\u001b[0m\u001b[0;34m,\u001b[0m \u001b[0;34m(\u001b[0m\u001b[0mcondition_imgs\u001b[0m\u001b[0;34m,\u001b[0m \u001b[0mtarget_labels\u001b[0m\u001b[0;34m,\u001b[0m \u001b[0mtarget_imgs\u001b[0m\u001b[0;34m)\u001b[0m \u001b[0;32min\u001b[0m \u001b[0menumerate\u001b[0m\u001b[0;34m(\u001b[0m\u001b[0mdataloader\u001b[0m\u001b[0;34m)\u001b[0m\u001b[0;34m:\u001b[0m\u001b[0;34m\u001b[0m\u001b[0;34m\u001b[0m\u001b[0m\n\u001b[0m\u001b[1;32m     24\u001b[0m         \u001b[0mcondition_imgs\u001b[0m \u001b[0;34m=\u001b[0m \u001b[0mcondition_imgs\u001b[0m\u001b[0;34m.\u001b[0m\u001b[0mcuda\u001b[0m\u001b[0;34m(\u001b[0m\u001b[0;34m)\u001b[0m\u001b[0;34m\u001b[0m\u001b[0;34m\u001b[0m\u001b[0m\n\u001b[1;32m     25\u001b[0m         \u001b[0mtarget_imgs\u001b[0m \u001b[0;34m=\u001b[0m \u001b[0mtarget_imgs\u001b[0m\u001b[0;34m.\u001b[0m\u001b[0mcuda\u001b[0m\u001b[0;34m(\u001b[0m\u001b[0;34m)\u001b[0m\u001b[0;34m\u001b[0m\u001b[0;34m\u001b[0m\u001b[0m\n",
            "\u001b[0;32m/usr/local/lib/python3.10/dist-packages/torch/utils/data/dataloader.py\u001b[0m in \u001b[0;36m__next__\u001b[0;34m(self)\u001b[0m\n\u001b[1;32m    699\u001b[0m                 \u001b[0;31m# TODO(https://github.com/pytorch/pytorch/issues/76750)\u001b[0m\u001b[0;34m\u001b[0m\u001b[0;34m\u001b[0m\u001b[0m\n\u001b[1;32m    700\u001b[0m                 \u001b[0mself\u001b[0m\u001b[0;34m.\u001b[0m\u001b[0m_reset\u001b[0m\u001b[0;34m(\u001b[0m\u001b[0;34m)\u001b[0m  \u001b[0;31m# type: ignore[call-arg]\u001b[0m\u001b[0;34m\u001b[0m\u001b[0;34m\u001b[0m\u001b[0m\n\u001b[0;32m--> 701\u001b[0;31m             \u001b[0mdata\u001b[0m \u001b[0;34m=\u001b[0m \u001b[0mself\u001b[0m\u001b[0;34m.\u001b[0m\u001b[0m_next_data\u001b[0m\u001b[0;34m(\u001b[0m\u001b[0;34m)\u001b[0m\u001b[0;34m\u001b[0m\u001b[0;34m\u001b[0m\u001b[0m\n\u001b[0m\u001b[1;32m    702\u001b[0m             \u001b[0mself\u001b[0m\u001b[0;34m.\u001b[0m\u001b[0m_num_yielded\u001b[0m \u001b[0;34m+=\u001b[0m \u001b[0;36m1\u001b[0m\u001b[0;34m\u001b[0m\u001b[0;34m\u001b[0m\u001b[0m\n\u001b[1;32m    703\u001b[0m             if (\n",
            "\u001b[0;32m/usr/local/lib/python3.10/dist-packages/torch/utils/data/dataloader.py\u001b[0m in \u001b[0;36m_next_data\u001b[0;34m(self)\u001b[0m\n\u001b[1;32m    755\u001b[0m     \u001b[0;32mdef\u001b[0m \u001b[0m_next_data\u001b[0m\u001b[0;34m(\u001b[0m\u001b[0mself\u001b[0m\u001b[0;34m)\u001b[0m\u001b[0;34m:\u001b[0m\u001b[0;34m\u001b[0m\u001b[0;34m\u001b[0m\u001b[0m\n\u001b[1;32m    756\u001b[0m         \u001b[0mindex\u001b[0m \u001b[0;34m=\u001b[0m \u001b[0mself\u001b[0m\u001b[0;34m.\u001b[0m\u001b[0m_next_index\u001b[0m\u001b[0;34m(\u001b[0m\u001b[0;34m)\u001b[0m  \u001b[0;31m# may raise StopIteration\u001b[0m\u001b[0;34m\u001b[0m\u001b[0;34m\u001b[0m\u001b[0m\n\u001b[0;32m--> 757\u001b[0;31m         \u001b[0mdata\u001b[0m \u001b[0;34m=\u001b[0m \u001b[0mself\u001b[0m\u001b[0;34m.\u001b[0m\u001b[0m_dataset_fetcher\u001b[0m\u001b[0;34m.\u001b[0m\u001b[0mfetch\u001b[0m\u001b[0;34m(\u001b[0m\u001b[0mindex\u001b[0m\u001b[0;34m)\u001b[0m  \u001b[0;31m# may raise StopIteration\u001b[0m\u001b[0;34m\u001b[0m\u001b[0;34m\u001b[0m\u001b[0m\n\u001b[0m\u001b[1;32m    758\u001b[0m         \u001b[0;32mif\u001b[0m \u001b[0mself\u001b[0m\u001b[0;34m.\u001b[0m\u001b[0m_pin_memory\u001b[0m\u001b[0;34m:\u001b[0m\u001b[0;34m\u001b[0m\u001b[0;34m\u001b[0m\u001b[0m\n\u001b[1;32m    759\u001b[0m             \u001b[0mdata\u001b[0m \u001b[0;34m=\u001b[0m \u001b[0m_utils\u001b[0m\u001b[0;34m.\u001b[0m\u001b[0mpin_memory\u001b[0m\u001b[0;34m.\u001b[0m\u001b[0mpin_memory\u001b[0m\u001b[0;34m(\u001b[0m\u001b[0mdata\u001b[0m\u001b[0;34m,\u001b[0m \u001b[0mself\u001b[0m\u001b[0;34m.\u001b[0m\u001b[0m_pin_memory_device\u001b[0m\u001b[0;34m)\u001b[0m\u001b[0;34m\u001b[0m\u001b[0;34m\u001b[0m\u001b[0m\n",
            "\u001b[0;32m/usr/local/lib/python3.10/dist-packages/torch/utils/data/_utils/fetch.py\u001b[0m in \u001b[0;36mfetch\u001b[0;34m(self, possibly_batched_index)\u001b[0m\n\u001b[1;32m     48\u001b[0m         \u001b[0;32mif\u001b[0m \u001b[0mself\u001b[0m\u001b[0;34m.\u001b[0m\u001b[0mauto_collation\u001b[0m\u001b[0;34m:\u001b[0m\u001b[0;34m\u001b[0m\u001b[0;34m\u001b[0m\u001b[0m\n\u001b[1;32m     49\u001b[0m             \u001b[0;32mif\u001b[0m \u001b[0mhasattr\u001b[0m\u001b[0;34m(\u001b[0m\u001b[0mself\u001b[0m\u001b[0;34m.\u001b[0m\u001b[0mdataset\u001b[0m\u001b[0;34m,\u001b[0m \u001b[0;34m\"__getitems__\"\u001b[0m\u001b[0;34m)\u001b[0m \u001b[0;32mand\u001b[0m \u001b[0mself\u001b[0m\u001b[0;34m.\u001b[0m\u001b[0mdataset\u001b[0m\u001b[0;34m.\u001b[0m\u001b[0m__getitems__\u001b[0m\u001b[0;34m:\u001b[0m\u001b[0;34m\u001b[0m\u001b[0;34m\u001b[0m\u001b[0m\n\u001b[0;32m---> 50\u001b[0;31m                 \u001b[0mdata\u001b[0m \u001b[0;34m=\u001b[0m \u001b[0mself\u001b[0m\u001b[0;34m.\u001b[0m\u001b[0mdataset\u001b[0m\u001b[0;34m.\u001b[0m\u001b[0m__getitems__\u001b[0m\u001b[0;34m(\u001b[0m\u001b[0mpossibly_batched_index\u001b[0m\u001b[0;34m)\u001b[0m\u001b[0;34m\u001b[0m\u001b[0;34m\u001b[0m\u001b[0m\n\u001b[0m\u001b[1;32m     51\u001b[0m             \u001b[0;32melse\u001b[0m\u001b[0;34m:\u001b[0m\u001b[0;34m\u001b[0m\u001b[0;34m\u001b[0m\u001b[0m\n\u001b[1;32m     52\u001b[0m                 \u001b[0mdata\u001b[0m \u001b[0;34m=\u001b[0m \u001b[0;34m[\u001b[0m\u001b[0mself\u001b[0m\u001b[0;34m.\u001b[0m\u001b[0mdataset\u001b[0m\u001b[0;34m[\u001b[0m\u001b[0midx\u001b[0m\u001b[0;34m]\u001b[0m \u001b[0;32mfor\u001b[0m \u001b[0midx\u001b[0m \u001b[0;32min\u001b[0m \u001b[0mpossibly_batched_index\u001b[0m\u001b[0;34m]\u001b[0m\u001b[0;34m\u001b[0m\u001b[0;34m\u001b[0m\u001b[0m\n",
            "\u001b[0;32m/usr/local/lib/python3.10/dist-packages/torch/utils/data/dataset.py\u001b[0m in \u001b[0;36m__getitems__\u001b[0;34m(self, indices)\u001b[0m\n\u001b[1;32m    418\u001b[0m             \u001b[0;32mreturn\u001b[0m \u001b[0mself\u001b[0m\u001b[0;34m.\u001b[0m\u001b[0mdataset\u001b[0m\u001b[0;34m.\u001b[0m\u001b[0m__getitems__\u001b[0m\u001b[0;34m(\u001b[0m\u001b[0;34m[\u001b[0m\u001b[0mself\u001b[0m\u001b[0;34m.\u001b[0m\u001b[0mindices\u001b[0m\u001b[0;34m[\u001b[0m\u001b[0midx\u001b[0m\u001b[0;34m]\u001b[0m \u001b[0;32mfor\u001b[0m \u001b[0midx\u001b[0m \u001b[0;32min\u001b[0m \u001b[0mindices\u001b[0m\u001b[0;34m]\u001b[0m\u001b[0;34m)\u001b[0m  \u001b[0;31m# type: ignore[attr-defined]\u001b[0m\u001b[0;34m\u001b[0m\u001b[0;34m\u001b[0m\u001b[0m\n\u001b[1;32m    419\u001b[0m         \u001b[0;32melse\u001b[0m\u001b[0;34m:\u001b[0m\u001b[0;34m\u001b[0m\u001b[0;34m\u001b[0m\u001b[0m\n\u001b[0;32m--> 420\u001b[0;31m             \u001b[0;32mreturn\u001b[0m \u001b[0;34m[\u001b[0m\u001b[0mself\u001b[0m\u001b[0;34m.\u001b[0m\u001b[0mdataset\u001b[0m\u001b[0;34m[\u001b[0m\u001b[0mself\u001b[0m\u001b[0;34m.\u001b[0m\u001b[0mindices\u001b[0m\u001b[0;34m[\u001b[0m\u001b[0midx\u001b[0m\u001b[0;34m]\u001b[0m\u001b[0;34m]\u001b[0m \u001b[0;32mfor\u001b[0m \u001b[0midx\u001b[0m \u001b[0;32min\u001b[0m \u001b[0mindices\u001b[0m\u001b[0;34m]\u001b[0m\u001b[0;34m\u001b[0m\u001b[0;34m\u001b[0m\u001b[0m\n\u001b[0m\u001b[1;32m    421\u001b[0m \u001b[0;34m\u001b[0m\u001b[0m\n\u001b[1;32m    422\u001b[0m     \u001b[0;32mdef\u001b[0m \u001b[0m__len__\u001b[0m\u001b[0;34m(\u001b[0m\u001b[0mself\u001b[0m\u001b[0;34m)\u001b[0m\u001b[0;34m:\u001b[0m\u001b[0;34m\u001b[0m\u001b[0;34m\u001b[0m\u001b[0m\n",
            "\u001b[0;32m/usr/local/lib/python3.10/dist-packages/torch/utils/data/dataset.py\u001b[0m in \u001b[0;36m<listcomp>\u001b[0;34m(.0)\u001b[0m\n\u001b[1;32m    418\u001b[0m             \u001b[0;32mreturn\u001b[0m \u001b[0mself\u001b[0m\u001b[0;34m.\u001b[0m\u001b[0mdataset\u001b[0m\u001b[0;34m.\u001b[0m\u001b[0m__getitems__\u001b[0m\u001b[0;34m(\u001b[0m\u001b[0;34m[\u001b[0m\u001b[0mself\u001b[0m\u001b[0;34m.\u001b[0m\u001b[0mindices\u001b[0m\u001b[0;34m[\u001b[0m\u001b[0midx\u001b[0m\u001b[0;34m]\u001b[0m \u001b[0;32mfor\u001b[0m \u001b[0midx\u001b[0m \u001b[0;32min\u001b[0m \u001b[0mindices\u001b[0m\u001b[0;34m]\u001b[0m\u001b[0;34m)\u001b[0m  \u001b[0;31m# type: ignore[attr-defined]\u001b[0m\u001b[0;34m\u001b[0m\u001b[0;34m\u001b[0m\u001b[0m\n\u001b[1;32m    419\u001b[0m         \u001b[0;32melse\u001b[0m\u001b[0;34m:\u001b[0m\u001b[0;34m\u001b[0m\u001b[0;34m\u001b[0m\u001b[0m\n\u001b[0;32m--> 420\u001b[0;31m             \u001b[0;32mreturn\u001b[0m \u001b[0;34m[\u001b[0m\u001b[0mself\u001b[0m\u001b[0;34m.\u001b[0m\u001b[0mdataset\u001b[0m\u001b[0;34m[\u001b[0m\u001b[0mself\u001b[0m\u001b[0;34m.\u001b[0m\u001b[0mindices\u001b[0m\u001b[0;34m[\u001b[0m\u001b[0midx\u001b[0m\u001b[0;34m]\u001b[0m\u001b[0;34m]\u001b[0m \u001b[0;32mfor\u001b[0m \u001b[0midx\u001b[0m \u001b[0;32min\u001b[0m \u001b[0mindices\u001b[0m\u001b[0;34m]\u001b[0m\u001b[0;34m\u001b[0m\u001b[0;34m\u001b[0m\u001b[0m\n\u001b[0m\u001b[1;32m    421\u001b[0m \u001b[0;34m\u001b[0m\u001b[0m\n\u001b[1;32m    422\u001b[0m     \u001b[0;32mdef\u001b[0m \u001b[0m__len__\u001b[0m\u001b[0;34m(\u001b[0m\u001b[0mself\u001b[0m\u001b[0;34m)\u001b[0m\u001b[0;34m:\u001b[0m\u001b[0;34m\u001b[0m\u001b[0;34m\u001b[0m\u001b[0m\n",
            "\u001b[0;32m<ipython-input-113-f40ad2fdcd8f>\u001b[0m in \u001b[0;36m__getitem__\u001b[0;34m(self, idx)\u001b[0m\n\u001b[1;32m     36\u001b[0m       \u001b[0;31m# Normalize and one-hot encode\u001b[0m\u001b[0;34m\u001b[0m\u001b[0;34m\u001b[0m\u001b[0m\n\u001b[1;32m     37\u001b[0m       \u001b[0;32mif\u001b[0m \u001b[0mself\u001b[0m\u001b[0;34m.\u001b[0m\u001b[0mtransform\u001b[0m\u001b[0;34m:\u001b[0m\u001b[0;34m\u001b[0m\u001b[0;34m\u001b[0m\u001b[0m\n\u001b[0;32m---> 38\u001b[0;31m           \u001b[0mcondition_image\u001b[0m \u001b[0;34m=\u001b[0m \u001b[0mself\u001b[0m\u001b[0;34m.\u001b[0m\u001b[0mtransform\u001b[0m\u001b[0;34m(\u001b[0m\u001b[0mcondition_image\u001b[0m\u001b[0;34m)\u001b[0m\u001b[0;34m\u001b[0m\u001b[0;34m\u001b[0m\u001b[0m\n\u001b[0m\u001b[1;32m     39\u001b[0m           \u001b[0mtarget_image\u001b[0m \u001b[0;34m=\u001b[0m \u001b[0mself\u001b[0m\u001b[0;34m.\u001b[0m\u001b[0mtransform\u001b[0m\u001b[0;34m(\u001b[0m\u001b[0mtarget_image\u001b[0m\u001b[0;34m)\u001b[0m\u001b[0;34m\u001b[0m\u001b[0;34m\u001b[0m\u001b[0m\n\u001b[1;32m     40\u001b[0m \u001b[0;34m\u001b[0m\u001b[0m\n",
            "\u001b[0;32m/usr/local/lib/python3.10/dist-packages/torchvision/transforms/transforms.py\u001b[0m in \u001b[0;36m__call__\u001b[0;34m(self, img)\u001b[0m\n\u001b[1;32m     93\u001b[0m     \u001b[0;32mdef\u001b[0m \u001b[0m__call__\u001b[0m\u001b[0;34m(\u001b[0m\u001b[0mself\u001b[0m\u001b[0;34m,\u001b[0m \u001b[0mimg\u001b[0m\u001b[0;34m)\u001b[0m\u001b[0;34m:\u001b[0m\u001b[0;34m\u001b[0m\u001b[0;34m\u001b[0m\u001b[0m\n\u001b[1;32m     94\u001b[0m         \u001b[0;32mfor\u001b[0m \u001b[0mt\u001b[0m \u001b[0;32min\u001b[0m \u001b[0mself\u001b[0m\u001b[0;34m.\u001b[0m\u001b[0mtransforms\u001b[0m\u001b[0;34m:\u001b[0m\u001b[0;34m\u001b[0m\u001b[0;34m\u001b[0m\u001b[0m\n\u001b[0;32m---> 95\u001b[0;31m             \u001b[0mimg\u001b[0m \u001b[0;34m=\u001b[0m \u001b[0mt\u001b[0m\u001b[0;34m(\u001b[0m\u001b[0mimg\u001b[0m\u001b[0;34m)\u001b[0m\u001b[0;34m\u001b[0m\u001b[0;34m\u001b[0m\u001b[0m\n\u001b[0m\u001b[1;32m     96\u001b[0m         \u001b[0;32mreturn\u001b[0m \u001b[0mimg\u001b[0m\u001b[0;34m\u001b[0m\u001b[0;34m\u001b[0m\u001b[0m\n\u001b[1;32m     97\u001b[0m \u001b[0;34m\u001b[0m\u001b[0m\n",
            "\u001b[0;32m/usr/local/lib/python3.10/dist-packages/torchvision/transforms/transforms.py\u001b[0m in \u001b[0;36m__call__\u001b[0;34m(self, pic)\u001b[0m\n\u001b[1;32m    135\u001b[0m             \u001b[0mTensor\u001b[0m\u001b[0;34m:\u001b[0m \u001b[0mConverted\u001b[0m \u001b[0mimage\u001b[0m\u001b[0;34m.\u001b[0m\u001b[0;34m\u001b[0m\u001b[0;34m\u001b[0m\u001b[0m\n\u001b[1;32m    136\u001b[0m         \"\"\"\n\u001b[0;32m--> 137\u001b[0;31m         \u001b[0;32mreturn\u001b[0m \u001b[0mF\u001b[0m\u001b[0;34m.\u001b[0m\u001b[0mto_tensor\u001b[0m\u001b[0;34m(\u001b[0m\u001b[0mpic\u001b[0m\u001b[0;34m)\u001b[0m\u001b[0;34m\u001b[0m\u001b[0;34m\u001b[0m\u001b[0m\n\u001b[0m\u001b[1;32m    138\u001b[0m \u001b[0;34m\u001b[0m\u001b[0m\n\u001b[1;32m    139\u001b[0m     \u001b[0;32mdef\u001b[0m \u001b[0m__repr__\u001b[0m\u001b[0;34m(\u001b[0m\u001b[0mself\u001b[0m\u001b[0;34m)\u001b[0m \u001b[0;34m->\u001b[0m \u001b[0mstr\u001b[0m\u001b[0;34m:\u001b[0m\u001b[0;34m\u001b[0m\u001b[0;34m\u001b[0m\u001b[0m\n",
            "\u001b[0;32m/usr/local/lib/python3.10/dist-packages/torchvision/transforms/functional.py\u001b[0m in \u001b[0;36mto_tensor\u001b[0;34m(pic)\u001b[0m\n\u001b[1;32m    139\u001b[0m     \u001b[0;32mif\u001b[0m \u001b[0;32mnot\u001b[0m \u001b[0mtorch\u001b[0m\u001b[0;34m.\u001b[0m\u001b[0mjit\u001b[0m\u001b[0;34m.\u001b[0m\u001b[0mis_scripting\u001b[0m\u001b[0;34m(\u001b[0m\u001b[0;34m)\u001b[0m \u001b[0;32mand\u001b[0m \u001b[0;32mnot\u001b[0m \u001b[0mtorch\u001b[0m\u001b[0;34m.\u001b[0m\u001b[0mjit\u001b[0m\u001b[0;34m.\u001b[0m\u001b[0mis_tracing\u001b[0m\u001b[0;34m(\u001b[0m\u001b[0;34m)\u001b[0m\u001b[0;34m:\u001b[0m\u001b[0;34m\u001b[0m\u001b[0;34m\u001b[0m\u001b[0m\n\u001b[1;32m    140\u001b[0m         \u001b[0m_log_api_usage_once\u001b[0m\u001b[0;34m(\u001b[0m\u001b[0mto_tensor\u001b[0m\u001b[0;34m)\u001b[0m\u001b[0;34m\u001b[0m\u001b[0;34m\u001b[0m\u001b[0m\n\u001b[0;32m--> 141\u001b[0;31m     \u001b[0;32mif\u001b[0m \u001b[0;32mnot\u001b[0m \u001b[0;34m(\u001b[0m\u001b[0mF_pil\u001b[0m\u001b[0;34m.\u001b[0m\u001b[0m_is_pil_image\u001b[0m\u001b[0;34m(\u001b[0m\u001b[0mpic\u001b[0m\u001b[0;34m)\u001b[0m \u001b[0;32mor\u001b[0m \u001b[0m_is_numpy\u001b[0m\u001b[0;34m(\u001b[0m\u001b[0mpic\u001b[0m\u001b[0;34m)\u001b[0m\u001b[0;34m)\u001b[0m\u001b[0;34m:\u001b[0m\u001b[0;34m\u001b[0m\u001b[0;34m\u001b[0m\u001b[0m\n\u001b[0m\u001b[1;32m    142\u001b[0m         \u001b[0;32mraise\u001b[0m \u001b[0mTypeError\u001b[0m\u001b[0;34m(\u001b[0m\u001b[0;34mf\"pic should be PIL Image or ndarray. Got {type(pic)}\"\u001b[0m\u001b[0;34m)\u001b[0m\u001b[0;34m\u001b[0m\u001b[0;34m\u001b[0m\u001b[0m\n\u001b[1;32m    143\u001b[0m \u001b[0;34m\u001b[0m\u001b[0m\n",
            "\u001b[0;32m/usr/local/lib/python3.10/dist-packages/torchvision/transforms/_functional_pil.py\u001b[0m in \u001b[0;36m_is_pil_image\u001b[0;34m(img)\u001b[0m\n\u001b[1;32m     12\u001b[0m \u001b[0;34m\u001b[0m\u001b[0m\n\u001b[1;32m     13\u001b[0m \u001b[0;34m\u001b[0m\u001b[0m\n\u001b[0;32m---> 14\u001b[0;31m \u001b[0;34m@\u001b[0m\u001b[0mtorch\u001b[0m\u001b[0;34m.\u001b[0m\u001b[0mjit\u001b[0m\u001b[0;34m.\u001b[0m\u001b[0munused\u001b[0m\u001b[0;34m\u001b[0m\u001b[0;34m\u001b[0m\u001b[0m\n\u001b[0m\u001b[1;32m     15\u001b[0m \u001b[0;32mdef\u001b[0m \u001b[0m_is_pil_image\u001b[0m\u001b[0;34m(\u001b[0m\u001b[0mimg\u001b[0m\u001b[0;34m:\u001b[0m \u001b[0mAny\u001b[0m\u001b[0;34m)\u001b[0m \u001b[0;34m->\u001b[0m \u001b[0mbool\u001b[0m\u001b[0;34m:\u001b[0m\u001b[0;34m\u001b[0m\u001b[0;34m\u001b[0m\u001b[0m\n\u001b[1;32m     16\u001b[0m     \u001b[0;32mif\u001b[0m \u001b[0maccimage\u001b[0m \u001b[0;32mis\u001b[0m \u001b[0;32mnot\u001b[0m \u001b[0;32mNone\u001b[0m\u001b[0;34m:\u001b[0m\u001b[0;34m\u001b[0m\u001b[0;34m\u001b[0m\u001b[0m\n",
            "\u001b[0;31mKeyboardInterrupt\u001b[0m: "
          ]
        }
      ],
      "source": [
        "z_dim = 100\n",
        "num_classes = 26\n",
        "img_size = 32\n",
        "batch_size = 64\n",
        "lr = 0.0001\n",
        "lambda_gp = 10\n",
        "n_critic = 5\n",
        "epochs = 1000\n",
        "\n",
        "# Initialize models\n",
        "generator = Generator3(latent_dim=z_dim).cuda()\n",
        "discriminator = Discriminator3(num_classes=num_classes).cuda()\n",
        "\n",
        "# Optimizers\n",
        "optimizer_G = optim.Adam(generator.parameters(), lr=lr, betas=(0.5, 0.999))\n",
        "optimizer_D = optim.Adam(discriminator.parameters(), lr=lr, betas=(0.5, 0.999))\n",
        "\n",
        "# Dataset and DataLoader\n",
        "#dataset = FontConditionalDataset(\"path_to_data.npz\", transform=transform)\n",
        "#dataloader = DataLoader(dataset, batch_size=batch_size, shuffle=True)\n",
        "\n",
        "for epoch in range(epochs):\n",
        "    for i, (condition_imgs, target_labels, target_imgs) in enumerate(dataloader):\n",
        "        condition_imgs = condition_imgs.cuda()\n",
        "        target_imgs = target_imgs.cuda()\n",
        "        target_labels = target_labels.cuda()\n",
        "        batch_size = condition_imgs.size(0)\n",
        "\n",
        "        # ---------------------\n",
        "        # Train Discriminator\n",
        "        # ---------------------\n",
        "        z = torch.randn(batch_size, z_dim).cuda()\n",
        "        fake_imgs = generator(z, target_labels, condition_imgs)\n",
        "\n",
        "        real_validity = discriminator(target_imgs, target_labels, condition_imgs)\n",
        "        fake_validity = discriminator(fake_imgs.detach(), target_labels, condition_imgs)\n",
        "        gradient_penalty = compute_gradient_penalty(\n",
        "            discriminator, target_imgs, fake_imgs.detach(), condition_imgs, target_labels\n",
        "        )\n",
        "\n",
        "        d_loss = -torch.mean(real_validity) + torch.mean(fake_validity) + lambda_gp * gradient_penalty\n",
        "\n",
        "        optimizer_D.zero_grad()\n",
        "        d_loss.backward()\n",
        "        optimizer_D.step()\n",
        "\n",
        "        # -----------------\n",
        "        # Train Generator\n",
        "        # -----------------\n",
        "        if i % n_critic == 0:\n",
        "            # Recompute fake images\n",
        "            fake_imgs = generator(z, target_labels, condition_imgs)\n",
        "            fake_validity = discriminator(fake_imgs, target_labels, condition_imgs)\n",
        "            g_loss = -torch.mean(fake_validity)\n",
        "\n",
        "            optimizer_G.zero_grad()\n",
        "            g_loss.backward()\n",
        "            optimizer_G.step()\n",
        "        if (epoch + 1) % 100 == 0:  # Test every 100 epochs\n",
        "          z_s = torch.randn(1, z_dim).cuda()\n",
        "          test_dataloader = DataLoader(test_data, batch_size=1, shuffle=True)\n",
        "\n",
        "          for i, (condition_imgs, target_labels, target_imgs) in enumerate(test_dataloader):\n",
        "              condition_img = condition_imgs.squeeze(0)  # Shape: 1x32x32\n",
        "\n",
        "              # Display the conditional image\n",
        "              plt.figure(figsize=(5, 5))\n",
        "              plt.imshow(condition_img.cpu().numpy().squeeze(), cmap='gray')  # Ensure correct shape for display\n",
        "              plt.axis(\"off\")\n",
        "              plt.title(\"Conditional Input Image\")\n",
        "              plt.show()\n",
        "\n",
        "              # Generate and display images for all classes\n",
        "              for class_index in range(num_classes):\n",
        "                  # Prepare one-hot target label\n",
        "                  target_label = torch.zeros(1, num_classes).to(device)\n",
        "                  target_label[0, class_index] = 1\n",
        "\n",
        "                  # Generate the image for the current class\n",
        "                  displayGeneratedImage(\n",
        "                      class_index=class_index,\n",
        "                      generator=generator,\n",
        "                      z_s=z_s,\n",
        "                      num_classes=num_classes,\n",
        "                      condition_img=condition_img,\n",
        "                      device=device\n",
        "                  )\n",
        "              break\n",
        "\n",
        "\n",
        "    print(f\"[Epoch {epoch}/{epochs}] [D loss: {d_loss.item()}] [G loss: {g_loss.item()}]\")\n",
        "    print(\"Generator Gradients:\")\n",
        "    for name, param in generator.named_parameters():\n",
        "            if param.grad is not None:\n",
        "                print(f\"{name}: {param.grad.norm().item()}\")\n",
        "    print(\"Critic Gradients:\")\n",
        "    for name, param in discriminator.named_parameters():\n",
        "                if param.grad is not None:\n",
        "                    print(f\"{name}: {param.grad.norm().item()}\")\n",
        "    print(\"Grad Penalty:\", gradient_penalty)\n"
      ]
    },
    {
      "cell_type": "code",
      "source": [
        "import os\n",
        "from PIL import Image"
      ],
      "metadata": {
        "id": "-OMR7L4t_GHe"
      },
      "execution_count": 126,
      "outputs": []
    },
    {
      "cell_type": "code",
      "source": [
        "# Define the base path and subdirectories for saving images in Google Drive\n",
        "base_folder = '/content/gdrive/My Drive/GeneratedImages'\n",
        "condition_folder = os.path.join(base_folder, 'ConditionImages')\n",
        "generated_folder = os.path.join(base_folder, 'GeneratedImages')\n",
        "\n",
        "# Create all necessary directories\n",
        "os.makedirs(base_folder, exist_ok=True)  # Create the main folder\n",
        "os.makedirs(condition_folder, exist_ok=True)  # Create folder for condition images\n",
        "os.makedirs(generated_folder, exist_ok=True)  # Create folder for generated images\n",
        "\n",
        "def save_image(image_tensor, save_path):\n",
        "    \"\"\"\n",
        "    Save a single image tensor as a PNG file.\n",
        "    \"\"\"\n",
        "    image = transforms.ToPILImage()(image_tensor.squeeze(0).cpu())\n",
        "    image.save(save_path)\n",
        "\n",
        "# Generate and save images\n",
        "z_s = torch.randn(1, z_dim).cuda()\n",
        "test_dataloader = DataLoader(test_data, batch_size=1, shuffle=True)\n",
        "\n",
        "for i, (condition_imgs, target_labels, target_imgs) in enumerate(test_dataloader):\n",
        "    # Extract a single condition image (remove batch dimension)\n",
        "    condition_img = condition_imgs.squeeze(0)  # Shape: 1x32x32\n",
        "    condition_save_path = os.path.join(condition_folder, f'condition_{i}.png')\n",
        "    save_image(condition_img, condition_save_path)  # Save condition image\n",
        "\n",
        "    # Generate and save images for all classes\n",
        "    for class_index in range(num_classes):\n",
        "        # Prepare one-hot target label\n",
        "        target_label = torch.zeros(1, num_classes).to(device)\n",
        "        target_label[0, class_index] = 1\n",
        "\n",
        "        # Generate the image for the current class\n",
        "        generated_img = generator(z_s, target_label, condition_img.unsqueeze(0).to(device)).squeeze(0)\n",
        "\n",
        "        # Define the save path\n",
        "        generated_save_path = os.path.join(generated_folder, f'generated_{i}_class_{class_index}.png')\n",
        "        save_image(generated_img, generated_save_path)\n",
        "\n",
        "print(\"Images have been saved to your Google Drive.\")"
      ],
      "metadata": {
        "colab": {
          "base_uri": "https://localhost:8080/",
          "height": 356
        },
        "id": "pziAo0fHF66t",
        "outputId": "791a65d7-7feb-4904-b820-f5e9ddd3f3b8"
      },
      "execution_count": 127,
      "outputs": [
        {
          "output_type": "error",
          "ename": "KeyboardInterrupt",
          "evalue": "",
          "traceback": [
            "\u001b[0;31m---------------------------------------------------------------------------\u001b[0m",
            "\u001b[0;31mKeyboardInterrupt\u001b[0m                         Traceback (most recent call last)",
            "\u001b[0;32m<ipython-input-127-571d0c18452d>\u001b[0m in \u001b[0;36m<cell line: 22>\u001b[0;34m()\u001b[0m\n\u001b[1;32m     37\u001b[0m         \u001b[0;31m# Define the save path\u001b[0m\u001b[0;34m\u001b[0m\u001b[0;34m\u001b[0m\u001b[0m\n\u001b[1;32m     38\u001b[0m         \u001b[0mgenerated_save_path\u001b[0m \u001b[0;34m=\u001b[0m \u001b[0mos\u001b[0m\u001b[0;34m.\u001b[0m\u001b[0mpath\u001b[0m\u001b[0;34m.\u001b[0m\u001b[0mjoin\u001b[0m\u001b[0;34m(\u001b[0m\u001b[0mgenerated_folder\u001b[0m\u001b[0;34m,\u001b[0m \u001b[0;34mf'generated_{i}_class_{class_index}.png'\u001b[0m\u001b[0;34m)\u001b[0m\u001b[0;34m\u001b[0m\u001b[0;34m\u001b[0m\u001b[0m\n\u001b[0;32m---> 39\u001b[0;31m         \u001b[0msave_image\u001b[0m\u001b[0;34m(\u001b[0m\u001b[0mgenerated_img\u001b[0m\u001b[0;34m,\u001b[0m \u001b[0mgenerated_save_path\u001b[0m\u001b[0;34m)\u001b[0m\u001b[0;34m\u001b[0m\u001b[0;34m\u001b[0m\u001b[0m\n\u001b[0m\u001b[1;32m     40\u001b[0m \u001b[0;34m\u001b[0m\u001b[0m\n\u001b[1;32m     41\u001b[0m \u001b[0mprint\u001b[0m\u001b[0;34m(\u001b[0m\u001b[0;34m\"Images have been saved to your Google Drive.\"\u001b[0m\u001b[0;34m)\u001b[0m\u001b[0;34m\u001b[0m\u001b[0;34m\u001b[0m\u001b[0m\n",
            "\u001b[0;32m<ipython-input-127-571d0c18452d>\u001b[0m in \u001b[0;36msave_image\u001b[0;34m(image_tensor, save_path)\u001b[0m\n\u001b[1;32m     14\u001b[0m     \"\"\"\n\u001b[1;32m     15\u001b[0m     \u001b[0mimage\u001b[0m \u001b[0;34m=\u001b[0m \u001b[0mtransforms\u001b[0m\u001b[0;34m.\u001b[0m\u001b[0mToPILImage\u001b[0m\u001b[0;34m(\u001b[0m\u001b[0;34m)\u001b[0m\u001b[0;34m(\u001b[0m\u001b[0mimage_tensor\u001b[0m\u001b[0;34m.\u001b[0m\u001b[0msqueeze\u001b[0m\u001b[0;34m(\u001b[0m\u001b[0;36m0\u001b[0m\u001b[0;34m)\u001b[0m\u001b[0;34m.\u001b[0m\u001b[0mcpu\u001b[0m\u001b[0;34m(\u001b[0m\u001b[0;34m)\u001b[0m\u001b[0;34m)\u001b[0m\u001b[0;34m\u001b[0m\u001b[0;34m\u001b[0m\u001b[0m\n\u001b[0;32m---> 16\u001b[0;31m     \u001b[0mimage\u001b[0m\u001b[0;34m.\u001b[0m\u001b[0msave\u001b[0m\u001b[0;34m(\u001b[0m\u001b[0msave_path\u001b[0m\u001b[0;34m)\u001b[0m\u001b[0;34m\u001b[0m\u001b[0;34m\u001b[0m\u001b[0m\n\u001b[0m\u001b[1;32m     17\u001b[0m \u001b[0;34m\u001b[0m\u001b[0m\n\u001b[1;32m     18\u001b[0m \u001b[0;31m# Generate and save images\u001b[0m\u001b[0;34m\u001b[0m\u001b[0;34m\u001b[0m\u001b[0m\n",
            "\u001b[0;32m/usr/local/lib/python3.10/dist-packages/PIL/Image.py\u001b[0m in \u001b[0;36msave\u001b[0;34m(self, fp, format, **params)\u001b[0m\n\u001b[1;32m   2598\u001b[0m                 \u001b[0mfp\u001b[0m \u001b[0;34m=\u001b[0m \u001b[0mbuiltins\u001b[0m\u001b[0;34m.\u001b[0m\u001b[0mopen\u001b[0m\u001b[0;34m(\u001b[0m\u001b[0mfilename\u001b[0m\u001b[0;34m,\u001b[0m \u001b[0;34m\"r+b\"\u001b[0m\u001b[0;34m)\u001b[0m\u001b[0;34m\u001b[0m\u001b[0;34m\u001b[0m\u001b[0m\n\u001b[1;32m   2599\u001b[0m             \u001b[0;32melse\u001b[0m\u001b[0;34m:\u001b[0m\u001b[0;34m\u001b[0m\u001b[0;34m\u001b[0m\u001b[0m\n\u001b[0;32m-> 2600\u001b[0;31m                 \u001b[0mfp\u001b[0m \u001b[0;34m=\u001b[0m \u001b[0mbuiltins\u001b[0m\u001b[0;34m.\u001b[0m\u001b[0mopen\u001b[0m\u001b[0;34m(\u001b[0m\u001b[0mfilename\u001b[0m\u001b[0;34m,\u001b[0m \u001b[0;34m\"w+b\"\u001b[0m\u001b[0;34m)\u001b[0m\u001b[0;34m\u001b[0m\u001b[0;34m\u001b[0m\u001b[0m\n\u001b[0m\u001b[1;32m   2601\u001b[0m         \u001b[0;32melse\u001b[0m\u001b[0;34m:\u001b[0m\u001b[0;34m\u001b[0m\u001b[0;34m\u001b[0m\u001b[0m\n\u001b[1;32m   2602\u001b[0m             \u001b[0mfp\u001b[0m \u001b[0;34m=\u001b[0m \u001b[0mcast\u001b[0m\u001b[0;34m(\u001b[0m\u001b[0mIO\u001b[0m\u001b[0;34m[\u001b[0m\u001b[0mbytes\u001b[0m\u001b[0;34m]\u001b[0m\u001b[0;34m,\u001b[0m \u001b[0mfp\u001b[0m\u001b[0;34m)\u001b[0m\u001b[0;34m\u001b[0m\u001b[0;34m\u001b[0m\u001b[0m\n",
            "\u001b[0;31mKeyboardInterrupt\u001b[0m: "
          ]
        }
      ]
    }
  ],
  "metadata": {
    "accelerator": "GPU",
    "colab": {
      "gpuType": "L4",
      "machine_shape": "hm",
      "provenance": [],
      "authorship_tag": "ABX9TyNfTj3YfEct9Z4srkrSQ6Rr",
      "include_colab_link": true
    },
    "kernelspec": {
      "display_name": "Python 3",
      "name": "python3"
    },
    "language_info": {
      "name": "python"
    }
  },
  "nbformat": 4,
  "nbformat_minor": 0
}